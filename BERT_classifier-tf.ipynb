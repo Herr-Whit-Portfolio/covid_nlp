{
 "cells": [
  {
   "cell_type": "code",
   "execution_count": 1,
   "id": "suffering-berlin",
   "metadata": {},
   "outputs": [
    {
     "name": "stdout",
     "output_type": "stream",
     "text": [
      "WARNING:tensorflow:From <ipython-input-1-4a3f57d5652e>:2: is_gpu_available (from tensorflow.python.framework.test_util) is deprecated and will be removed in a future version.\n",
      "Instructions for updating:\n",
      "Use `tf.config.list_physical_devices('GPU')` instead.\n"
     ]
    },
    {
     "data": {
      "text/plain": [
       "False"
      ]
     },
     "execution_count": 1,
     "metadata": {},
     "output_type": "execute_result"
    }
   ],
   "source": [
    "import tensorflow as tf\n",
    "tf.test.is_gpu_available()"
   ]
  },
  {
   "cell_type": "code",
   "execution_count": 2,
   "id": "prime-center",
   "metadata": {},
   "outputs": [],
   "source": [
    "import pandas as pd\n",
    "import numpy as np\n",
    "import pickle\n",
    "use_saved_embeddings = True"
   ]
  },
  {
   "cell_type": "code",
   "execution_count": 3,
   "id": "answering-browser",
   "metadata": {
    "scrolled": true
   },
   "outputs": [],
   "source": [
    "train_set = pd.read_csv('./data/Corona_NLP_train_clean.csv')\n",
    "test_set = pd.read_csv('./data/Corona_NLP_test_clean.csv')"
   ]
  },
  {
   "cell_type": "code",
   "execution_count": 4,
   "id": "piano-hollow",
   "metadata": {},
   "outputs": [],
   "source": [
    "from transformers import TFRobertaModel, RobertaConfig, RobertaTokenizer\n",
    "\n",
    "# Initializing a BERT bert-base-uncased style configuration\n",
    "configuration = RobertaConfig()\n",
    "\n",
    "# Initializing a model from the bert-base-uncased style configuration\n",
    "model = TFRobertaModel(configuration)\n",
    "\n",
    "# Accessing the model configuration\n",
    "configuration = model.config"
   ]
  },
  {
   "cell_type": "code",
   "execution_count": 5,
   "id": "harmful-singapore",
   "metadata": {},
   "outputs": [],
   "source": [
    "tokenizer = RobertaTokenizer.from_pretrained(\"roberta-base\")"
   ]
  },
  {
   "cell_type": "code",
   "execution_count": 6,
   "id": "considerable-still",
   "metadata": {},
   "outputs": [
    {
     "data": {
      "text/html": [
       "<div>\n",
       "<style scoped>\n",
       "    .dataframe tbody tr th:only-of-type {\n",
       "        vertical-align: middle;\n",
       "    }\n",
       "\n",
       "    .dataframe tbody tr th {\n",
       "        vertical-align: top;\n",
       "    }\n",
       "\n",
       "    .dataframe thead th {\n",
       "        text-align: right;\n",
       "    }\n",
       "</style>\n",
       "<table border=\"1\" class=\"dataframe\">\n",
       "  <thead>\n",
       "    <tr style=\"text-align: right;\">\n",
       "      <th></th>\n",
       "      <th>Unnamed: 0</th>\n",
       "      <th>UserName</th>\n",
       "      <th>ScreenName</th>\n",
       "      <th>Location</th>\n",
       "      <th>TweetAt</th>\n",
       "      <th>OriginalTweet</th>\n",
       "      <th>Sentiment</th>\n",
       "      <th>SentimentCode</th>\n",
       "    </tr>\n",
       "  </thead>\n",
       "  <tbody>\n",
       "    <tr>\n",
       "      <th>0</th>\n",
       "      <td>1</td>\n",
       "      <td>3800</td>\n",
       "      <td>48752</td>\n",
       "      <td>UK</td>\n",
       "      <td>16-03-2020</td>\n",
       "      <td>advice Talk to your neighbours family to excha...</td>\n",
       "      <td>Positive</td>\n",
       "      <td>2</td>\n",
       "    </tr>\n",
       "    <tr>\n",
       "      <th>1</th>\n",
       "      <td>2</td>\n",
       "      <td>3801</td>\n",
       "      <td>48753</td>\n",
       "      <td>Vagabonds</td>\n",
       "      <td>16-03-2020</td>\n",
       "      <td>Coronavirus Australia: Woolworths to give elde...</td>\n",
       "      <td>Positive</td>\n",
       "      <td>2</td>\n",
       "    </tr>\n",
       "    <tr>\n",
       "      <th>2</th>\n",
       "      <td>3</td>\n",
       "      <td>3802</td>\n",
       "      <td>48754</td>\n",
       "      <td>NaN</td>\n",
       "      <td>16-03-2020</td>\n",
       "      <td>My food stock is not the only one which is emp...</td>\n",
       "      <td>Positive</td>\n",
       "      <td>2</td>\n",
       "    </tr>\n",
       "    <tr>\n",
       "      <th>3</th>\n",
       "      <td>4</td>\n",
       "      <td>3803</td>\n",
       "      <td>48755</td>\n",
       "      <td>NaN</td>\n",
       "      <td>16-03-2020</td>\n",
       "      <td>Me, ready to go at supermarket during the COVI...</td>\n",
       "      <td>Extremely Negative</td>\n",
       "      <td>0</td>\n",
       "    </tr>\n",
       "    <tr>\n",
       "      <th>4</th>\n",
       "      <td>5</td>\n",
       "      <td>3804</td>\n",
       "      <td>48756</td>\n",
       "      <td>ÜT: 36.319708,-82.363649</td>\n",
       "      <td>16-03-2020</td>\n",
       "      <td>As news of the regions first confirmed COVID-...</td>\n",
       "      <td>Positive</td>\n",
       "      <td>2</td>\n",
       "    </tr>\n",
       "    <tr>\n",
       "      <th>...</th>\n",
       "      <td>...</td>\n",
       "      <td>...</td>\n",
       "      <td>...</td>\n",
       "      <td>...</td>\n",
       "      <td>...</td>\n",
       "      <td>...</td>\n",
       "      <td>...</td>\n",
       "      <td>...</td>\n",
       "    </tr>\n",
       "    <tr>\n",
       "      <th>41117</th>\n",
       "      <td>41152</td>\n",
       "      <td>44951</td>\n",
       "      <td>89903</td>\n",
       "      <td>Wellington City, New Zealand</td>\n",
       "      <td>14-04-2020</td>\n",
       "      <td>Airline pilots offering to stock supermarket s...</td>\n",
       "      <td>Neutral</td>\n",
       "      <td>1</td>\n",
       "    </tr>\n",
       "    <tr>\n",
       "      <th>41118</th>\n",
       "      <td>41153</td>\n",
       "      <td>44952</td>\n",
       "      <td>89904</td>\n",
       "      <td>NaN</td>\n",
       "      <td>14-04-2020</td>\n",
       "      <td>Response to complaint not provided citing COVI...</td>\n",
       "      <td>Extremely Negative</td>\n",
       "      <td>0</td>\n",
       "    </tr>\n",
       "    <tr>\n",
       "      <th>41119</th>\n",
       "      <td>41154</td>\n",
       "      <td>44953</td>\n",
       "      <td>89905</td>\n",
       "      <td>NaN</td>\n",
       "      <td>14-04-2020</td>\n",
       "      <td>You know its getting tough when is rationing ...</td>\n",
       "      <td>Positive</td>\n",
       "      <td>2</td>\n",
       "    </tr>\n",
       "    <tr>\n",
       "      <th>41120</th>\n",
       "      <td>41155</td>\n",
       "      <td>44954</td>\n",
       "      <td>89906</td>\n",
       "      <td>NaN</td>\n",
       "      <td>14-04-2020</td>\n",
       "      <td>Is it wrong that the smell of hand sanitizer i...</td>\n",
       "      <td>Neutral</td>\n",
       "      <td>1</td>\n",
       "    </tr>\n",
       "    <tr>\n",
       "      <th>41121</th>\n",
       "      <td>41156</td>\n",
       "      <td>44955</td>\n",
       "      <td>89907</td>\n",
       "      <td>i love you so much || he/him</td>\n",
       "      <td>14-04-2020</td>\n",
       "      <td>Well new/used Rift S are going for $700.00 on...</td>\n",
       "      <td>Negative</td>\n",
       "      <td>0</td>\n",
       "    </tr>\n",
       "  </tbody>\n",
       "</table>\n",
       "<p>41122 rows × 8 columns</p>\n",
       "</div>"
      ],
      "text/plain": [
       "       Unnamed: 0  UserName  ScreenName                      Location  \\\n",
       "0               1      3800       48752                            UK   \n",
       "1               2      3801       48753                     Vagabonds   \n",
       "2               3      3802       48754                           NaN   \n",
       "3               4      3803       48755                           NaN   \n",
       "4               5      3804       48756      ÜT: 36.319708,-82.363649   \n",
       "...           ...       ...         ...                           ...   \n",
       "41117       41152     44951       89903  Wellington City, New Zealand   \n",
       "41118       41153     44952       89904                           NaN   \n",
       "41119       41154     44953       89905                           NaN   \n",
       "41120       41155     44954       89906                           NaN   \n",
       "41121       41156     44955       89907  i love you so much || he/him   \n",
       "\n",
       "          TweetAt                                      OriginalTweet  \\\n",
       "0      16-03-2020  advice Talk to your neighbours family to excha...   \n",
       "1      16-03-2020  Coronavirus Australia: Woolworths to give elde...   \n",
       "2      16-03-2020  My food stock is not the only one which is emp...   \n",
       "3      16-03-2020  Me, ready to go at supermarket during the COVI...   \n",
       "4      16-03-2020  As news of the regions first confirmed COVID-...   \n",
       "...           ...                                                ...   \n",
       "41117  14-04-2020  Airline pilots offering to stock supermarket s...   \n",
       "41118  14-04-2020  Response to complaint not provided citing COVI...   \n",
       "41119  14-04-2020  You know its getting tough when is rationing ...   \n",
       "41120  14-04-2020  Is it wrong that the smell of hand sanitizer i...   \n",
       "41121  14-04-2020   Well new/used Rift S are going for $700.00 on...   \n",
       "\n",
       "                Sentiment  SentimentCode  \n",
       "0                Positive              2  \n",
       "1                Positive              2  \n",
       "2                Positive              2  \n",
       "3      Extremely Negative              0  \n",
       "4                Positive              2  \n",
       "...                   ...            ...  \n",
       "41117             Neutral              1  \n",
       "41118  Extremely Negative              0  \n",
       "41119            Positive              2  \n",
       "41120             Neutral              1  \n",
       "41121            Negative              0  \n",
       "\n",
       "[41122 rows x 8 columns]"
      ]
     },
     "execution_count": 6,
     "metadata": {},
     "output_type": "execute_result"
    }
   ],
   "source": [
    "train_set"
   ]
  },
  {
   "cell_type": "code",
   "execution_count": 7,
   "id": "tamil-twenty",
   "metadata": {
    "scrolled": false
   },
   "outputs": [],
   "source": [
    "X_train = list(train_set['OriginalTweet'].apply(lambda x: \"[CLS]\" + x + \"[SEP]\").values)\n",
    "y_train = list(train_set['SentimentCode'].values)\n",
    "X_test = list(test_set['OriginalTweet'].apply(lambda x: \"[CLS]\" + x + \"[SEP]\").values)\n",
    "y_test = list(test_set['SentimentCode'].values)"
   ]
  },
  {
   "cell_type": "code",
   "execution_count": 8,
   "id": "executive-graham",
   "metadata": {},
   "outputs": [],
   "source": [
    "X_train = tokenizer(X_train)\n",
    "X_test = tokenizer(X_test)"
   ]
  },
  {
   "cell_type": "code",
   "execution_count": 9,
   "id": "continental-document",
   "metadata": {},
   "outputs": [],
   "source": [
    "def make_padded_tensor(ids, limit):\n",
    "    for i, seq in enumerate(ids['input_ids']):\n",
    "        if len(seq) > limit:\n",
    "            ids['input_ids'][i] = seq[:limit]\n",
    "            ids['attention_mask'][i] = ids['attention_mask'][i][:limit]\n",
    "        else:\n",
    "            ids['input_ids'][i] = seq + [0] * (limit - len(seq))\n",
    "            ids['attention_mask'][i] = ids['attention_mask'][i] + [0] * (limit - len(seq))\n",
    "    ids['input_ids'] = tf.constant(ids['input_ids'], dtype=tf.int32)\n",
    "    ids['attention_mask'] = tf.constant(ids['attention_mask'], dtype=tf.int32)\n",
    "    return ids"
   ]
  },
  {
   "cell_type": "code",
   "execution_count": 10,
   "id": "general-print",
   "metadata": {},
   "outputs": [],
   "source": [
    "X_train_tensors = make_padded_tensor(X_train, 100)\n",
    "X_test_tensors = make_padded_tensor(X_test, 100)"
   ]
  },
  {
   "cell_type": "code",
   "execution_count": 11,
   "id": "norman-firmware",
   "metadata": {},
   "outputs": [],
   "source": [
    "def get_embeddings_batchwise(X_tensors, batch_size, model, embedding_size=768):\n",
    "    number_of_batches = 1 + len(X_tensors['input_ids']) // batch_size\n",
    "    n_examples = len(X_tensors['input_ids'])\n",
    "    sequence_length = len(X_tensors['input_ids'][0])\n",
    "    embeddings = np.zeros((n_examples, embedding_size))\n",
    "    for i in range(number_of_batches):\n",
    "        print(f'batch {i} of {number_of_batches}. {i * batch_size} of {n_examples} Examples')\n",
    "        results = model(X_tensors['input_ids'][i * batch_size:(i + 1) * batch_size], \n",
    "                        X_tensors['attention_mask'][i * batch_size:(i + 1) * batch_size], \n",
    "                        output_hidden_states=True) \n",
    "        hidden_dims = results[2][1]\n",
    "        embeddings[i * batch_size:(i + 1) * batch_size] = hidden_dims[:,0]\n",
    "    return embeddings"
   ]
  },
  {
   "cell_type": "code",
   "execution_count": 12,
   "id": "adapted-sleeve",
   "metadata": {
    "scrolled": true
   },
   "outputs": [],
   "source": [
    "# stuff = model(X_tensors['input_ids'][:10], X_tensors['attention_mask'][:10], output_hidden_states=True)\n",
    "if use_saved_embeddings:\n",
    "    with open('embeddings_train.pkl', 'rb') as f:\n",
    "        train_embeddings = pickle.load(f)\n",
    "    with open('embeddings_test.pkl', 'rb') as f:\n",
    "        test_embeddings = pickle.load(f)\n",
    "else:\n",
    "    train_embeddings = get_embeddings_batchwise(X_train_tensors, 128, model)\n",
    "    test_embeddings = get_embeddings_batchwise(X_test_tensors, 128, model) \n",
    "    with open('embeddings_train.pkl', 'wb') as f:\n",
    "        pickle.dump(train_embeddings, f)\n",
    "    with open('embeddings_test.pkl', 'wb') as f:\n",
    "        pickle.dump(test_embeddings, f)"
   ]
  },
  {
   "cell_type": "code",
   "execution_count": 13,
   "id": "changed-edgar",
   "metadata": {},
   "outputs": [],
   "source": [
    "from sklearn.neighbors import KNeighborsClassifier\n",
    "from sklearn import svm\n",
    "from sklearn.metrics import f1_score, plot_confusion_matrix"
   ]
  },
  {
   "cell_type": "code",
   "execution_count": 14,
   "id": "alike-amendment",
   "metadata": {},
   "outputs": [
    {
     "name": "stdout",
     "output_type": "stream",
     "text": [
      "[0.67318444 0.56462197 0.70023291]\n",
      "[0.         0.         0.57880943]\n"
     ]
    }
   ],
   "source": [
    "knn_class = KNeighborsClassifier()\n",
    "knn_class = knn_class.fit(train_embeddings, y_train)\n",
    "print(f1_score(knn_class.predict(train_embeddings), y_train, average=None))\n",
    "print(f1_score(knn_class.predict(test_embeddings), y_test, average=None))"
   ]
  },
  {
   "cell_type": "code",
   "execution_count": null,
   "id": "paperback-october",
   "metadata": {},
   "outputs": [],
   "source": [
    "clf = svm.SVC(decision_function_shape='ovo')\n",
    "clf.fit(train_embeddings, y_train)\n",
    "print(f1_score(clf.predict(train_embeddings), y_train, average=None))\n",
    "print(f1_score(clf.predict(test_embeddings), y_test, average=None))"
   ]
  }
 ],
 "metadata": {
  "kernelspec": {
   "display_name": "Python 3",
   "language": "python",
   "name": "python3"
  },
  "language_info": {
   "codemirror_mode": {
    "name": "ipython",
    "version": 3
   },
   "file_extension": ".py",
   "mimetype": "text/x-python",
   "name": "python",
   "nbconvert_exporter": "python",
   "pygments_lexer": "ipython3",
   "version": "3.8.8"
  }
 },
 "nbformat": 4,
 "nbformat_minor": 5
}
