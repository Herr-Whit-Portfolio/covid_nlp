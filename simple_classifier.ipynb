{
 "cells": [
  {
   "cell_type": "code",
   "execution_count": 11,
   "id": "attractive-valve",
   "metadata": {},
   "outputs": [
    {
     "name": "stdout",
     "output_type": "stream",
     "text": [
      "The autoreload extension is already loaded. To reload it, use:\n",
      "  %reload_ext autoreload\n"
     ]
    }
   ],
   "source": [
    "%load_ext autoreload\n",
    "%autoreload 2"
   ]
  },
  {
   "cell_type": "code",
   "execution_count": 44,
   "id": "consecutive-multiple",
   "metadata": {},
   "outputs": [],
   "source": [
    "import pandas as pd\n",
    "from spacy.lang.en import English\n",
    "from spacy.lang.en.stop_words import STOP_WORDS\n",
    "from sklearn.feature_extraction.text import TfidfVectorizer"
   ]
  },
  {
   "cell_type": "code",
   "execution_count": 13,
   "id": "fifth-protocol",
   "metadata": {},
   "outputs": [],
   "source": [
    "pd.set_option(\"max_rows\", 100)\n",
    "pd.set_option(\"max_colwidth\", 2000)"
   ]
  },
  {
   "cell_type": "code",
   "execution_count": 54,
   "id": "imperial-theater",
   "metadata": {},
   "outputs": [],
   "source": [
    "train_set = pd.read_csv('./data/Corona_NLP_train_clean.csv')\n",
    "test_set = pd.read_csv('./data/Corona_NLP_test_clean.csv')"
   ]
  },
  {
   "cell_type": "code",
   "execution_count": 9,
   "id": "expressed-controversy",
   "metadata": {},
   "outputs": [],
   "source": [
    "nlp = English()"
   ]
  },
  {
   "cell_type": "code",
   "execution_count": 51,
   "id": "distinct-conservative",
   "metadata": {},
   "outputs": [],
   "source": [
    "def featurize_text(text):\n",
    "    text = nlp(text)\n",
    "    filtered_text = list()\n",
    "    for word in text:\n",
    "        if (word.is_stop == False) and (word.is_punct == False):\n",
    "            filtered_text.append(word.lemma)\n",
    "    return filtered_text"
   ]
  },
  {
   "cell_type": "code",
   "execution_count": 37,
   "id": "elementary-observation",
   "metadata": {},
   "outputs": [],
   "source": [
    "X_train = make_bag_of_words(train_set)\n",
    "X_test = make_bag_of_words(clean_df_test)"
   ]
  },
  {
   "cell_type": "code",
   "execution_count": 62,
   "id": "rubber-plaintiff",
   "metadata": {},
   "outputs": [],
   "source": [
    "tfidf_vectorizer = TfidfVectorizer(tokenizer = featurize_text)\n",
    "X_train = tfidf_vectorizer.fit_transform(train_set['OriginalTweet'])\n",
    "X_test = tfidf_vectorizer.transform(test_set['OriginalTweet'])\n",
    "y_train = train_set['SentimentCode'].values\n",
    "y_test = test_set['SentimentCode'].values"
   ]
  },
  {
   "cell_type": "code",
   "execution_count": 91,
   "id": "thrown-answer",
   "metadata": {},
   "outputs": [
    {
     "data": {
      "text/plain": [
       "LogisticRegression(max_iter=400)"
      ]
     },
     "execution_count": 91,
     "metadata": {},
     "output_type": "execute_result"
    }
   ],
   "source": [
    "from sklearn.linear_model import  LogisticRegression\n",
    "lin_class = LogisticRegression(max_iter=400)\n",
    "lin_class.fit(X_train, y_train)"
   ]
  },
  {
   "cell_type": "code",
   "execution_count": 92,
   "id": "classified-vermont",
   "metadata": {},
   "outputs": [],
   "source": [
    "from sklearn.metrics import f1_score, plot_confusion_matrix"
   ]
  },
  {
   "cell_type": "code",
   "execution_count": 93,
   "id": "formal-selling",
   "metadata": {},
   "outputs": [],
   "source": [
    "predict_train = lin_class.predict(X_train)\n",
    "predict_test = lin_class.predict(X_test)"
   ]
  },
  {
   "cell_type": "code",
   "execution_count": 94,
   "id": "balanced-briefing",
   "metadata": {},
   "outputs": [
    {
     "data": {
      "text/plain": [
       "array([2, 3, 3, ..., 3, 3, 1], dtype=int64)"
      ]
     },
     "execution_count": 94,
     "metadata": {},
     "output_type": "execute_result"
    }
   ],
   "source": [
    "predict_train"
   ]
  },
  {
   "cell_type": "code",
   "execution_count": 95,
   "id": "abstract-keeping",
   "metadata": {},
   "outputs": [
    {
     "data": {
      "text/plain": [
       "array([0.77691922, 0.77818506, 0.83418302, 0.79860967, 0.80297337])"
      ]
     },
     "execution_count": 95,
     "metadata": {},
     "output_type": "execute_result"
    }
   ],
   "source": [
    "f1_score(predict_train, y_train, average=None)"
   ]
  },
  {
   "cell_type": "code",
   "execution_count": 96,
   "id": "interior-attraction",
   "metadata": {},
   "outputs": [
    {
     "data": {
      "text/plain": [
       "array([0.51536174, 0.50211168, 0.60658307, 0.54089219, 0.5703125 ])"
      ]
     },
     "execution_count": 96,
     "metadata": {},
     "output_type": "execute_result"
    }
   ],
   "source": [
    "f1_score(predict_test, y_test, average=None)"
   ]
  },
  {
   "cell_type": "code",
   "execution_count": 97,
   "id": "massive-excellence",
   "metadata": {},
   "outputs": [
    {
     "data": {
      "text/plain": [
       "<sklearn.metrics._plot.confusion_matrix.ConfusionMatrixDisplay at 0x25e0db46640>"
      ]
     },
     "execution_count": 97,
     "metadata": {},
     "output_type": "execute_result"
    },
    {
     "data": {
      "image/png": "[encoded data removed]",
      "text/plain": [
       "<Figure size 432x288 with 2 Axes>"
      ]
     },
     "metadata": {
      "needs_background": "light"
     },
     "output_type": "display_data"
    }
   ],
   "source": [
    "plot_confusion_matrix(lin_class, X_test, y_test)"
   ]
  },
  {
   "cell_type": "code",
   "execution_count": null,
   "id": "willing-symposium",
   "metadata": {},
   "outputs": [],
   "source": [
    "plot_confusion_matrix(lin_class, X_test, y_test)"
   ]
  }
 ],
 "metadata": {
  "kernelspec": {
   "display_name": "Python 3",
   "language": "python",
   "name": "python3"
  },
  "language_info": {
   "codemirror_mode": {
    "name": "ipython",
    "version": 3
   },
   "file_extension": ".py",
   "mimetype": "text/x-python",
   "name": "python",
   "nbconvert_exporter": "python",
   "pygments_lexer": "ipython3",
   "version": "3.9.2"
  }
 },
 "nbformat": 4,
 "nbformat_minor": 5
}
