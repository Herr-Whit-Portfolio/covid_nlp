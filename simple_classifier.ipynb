{
 "cells": [
  {
   "cell_type": "code",
   "execution_count": 1,
   "id": "attractive-valve",
   "metadata": {},
   "outputs": [],
   "source": [
    "%load_ext autoreload\n",
    "%autoreload 2"
   ]
  },
  {
   "cell_type": "code",
   "execution_count": 2,
   "id": "consecutive-multiple",
   "metadata": {},
   "outputs": [],
   "source": [
    "import pandas as pd\n",
    "from spacy.lang.en import English\n",
    "from spacy.lang.en.stop_words import STOP_WORDS\n",
    "from sklearn.feature_extraction.text import TfidfVectorizer\n",
    "from clean_data import featurize_text"
   ]
  },
  {
   "cell_type": "code",
   "execution_count": 3,
   "id": "fifth-protocol",
   "metadata": {},
   "outputs": [],
   "source": [
    "pd.set_option(\"max_rows\", 100)\n",
    "pd.set_option(\"max_colwidth\", 2000)"
   ]
  },
  {
   "cell_type": "code",
   "execution_count": 4,
   "id": "imperial-theater",
   "metadata": {},
   "outputs": [],
   "source": [
    "train_set = pd.read_csv('./data/Corona_NLP_train_clean.csv')\n",
    "test_set = pd.read_csv('./data/Corona_NLP_test_clean.csv')"
   ]
  },
  {
   "cell_type": "code",
   "execution_count": 5,
   "id": "expressed-controversy",
   "metadata": {},
   "outputs": [],
   "source": [
    "nlp = English()"
   ]
  },
  {
   "cell_type": "code",
   "execution_count": 6,
   "id": "rubber-plaintiff",
   "metadata": {},
   "outputs": [],
   "source": [
    "tfidf_vectorizer = TfidfVectorizer(tokenizer = featurize_text)\n",
    "X_train = tfidf_vectorizer.fit_transform(train_set['OriginalTweet'])\n",
    "X_test = tfidf_vectorizer.transform(test_set['OriginalTweet'])\n",
    "y_train = train_set['SentimentCode'].values\n",
    "y_test = test_set['SentimentCode'].values"
   ]
  },
  {
   "cell_type": "code",
   "execution_count": 7,
   "id": "thrown-answer",
   "metadata": {},
   "outputs": [
    {
     "data": {
      "text/plain": [
       "LogisticRegression(max_iter=400)"
      ]
     },
     "execution_count": 7,
     "metadata": {},
     "output_type": "execute_result"
    }
   ],
   "source": [
    "from sklearn.linear_model import  LogisticRegression\n",
    "lin_class = LogisticRegression(max_iter=400)\n",
    "lin_class.fit(X_train, y_train)"
   ]
  },
  {
   "cell_type": "code",
   "execution_count": 8,
   "id": "classified-vermont",
   "metadata": {},
   "outputs": [],
   "source": [
    "from sklearn.metrics import f1_score, plot_confusion_matrix"
   ]
  },
  {
   "cell_type": "code",
   "execution_count": 9,
   "id": "formal-selling",
   "metadata": {},
   "outputs": [],
   "source": [
    "predict_train = lin_class.predict(X_train)\n",
    "predict_test = lin_class.predict(X_test)"
   ]
  },
  {
   "cell_type": "code",
   "execution_count": 10,
   "id": "balanced-briefing",
   "metadata": {},
   "outputs": [
    {
     "data": {
      "text/plain": [
       "array([2, 2, 2, ..., 2, 2, 0], dtype=int64)"
      ]
     },
     "execution_count": 10,
     "metadata": {},
     "output_type": "execute_result"
    }
   ],
   "source": [
    "predict_train"
   ]
  },
  {
   "cell_type": "code",
   "execution_count": 11,
   "id": "abstract-keeping",
   "metadata": {},
   "outputs": [
    {
     "data": {
      "text/plain": [
       "array([0.90645297, 0.85603704, 0.92065819])"
      ]
     },
     "execution_count": 11,
     "metadata": {},
     "output_type": "execute_result"
    }
   ],
   "source": [
    "f1_score(predict_train, y_train, average=None)"
   ]
  },
  {
   "cell_type": "code",
   "execution_count": 12,
   "id": "interior-attraction",
   "metadata": {},
   "outputs": [
    {
     "data": {
      "text/plain": [
       "array([0.78204734, 0.62835249, 0.79564931])"
      ]
     },
     "execution_count": 12,
     "metadata": {},
     "output_type": "execute_result"
    }
   ],
   "source": [
    "f1_score(predict_test, y_test, average=None)"
   ]
  },
  {
   "cell_type": "code",
   "execution_count": 13,
   "id": "massive-excellence",
   "metadata": {},
   "outputs": [
    {
     "data": {
      "text/plain": [
       "<sklearn.metrics._plot.confusion_matrix.ConfusionMatrixDisplay at 0x18185dba310>"
      ]
     },
     "execution_count": 13,
     "metadata": {},
     "output_type": "execute_result"
    },
    {
     "data": {
      "image/png": "[encoded data removed]",
      "text/plain": [
       "<Figure size 432x288 with 2 Axes>"
      ]
     },
     "metadata": {
      "needs_background": "light"
     },
     "output_type": "display_data"
    }
   ],
   "source": [
    "plot_confusion_matrix(lin_class, X_test, y_test)"
   ]
  },
  {
   "cell_type": "markdown",
   "id": "7bc12d3f",
   "metadata": {},
   "source": [
    "# Let's wrap it all up in a pipeline"
   ]
  },
  {
   "cell_type": "code",
   "execution_count": 14,
   "id": "dedf12c0",
   "metadata": {},
   "outputs": [],
   "source": [
    "steps = (('vectorizer', tfidf_vectorizer), ('classifier', lin_class))"
   ]
  },
  {
   "cell_type": "code",
   "execution_count": 15,
   "id": "78384257",
   "metadata": {},
   "outputs": [],
   "source": [
    "from sklearn.pipeline import Pipeline\n",
    "short_pipeline = Pipeline(steps)"
   ]
  },
  {
   "cell_type": "code",
   "execution_count": 16,
   "id": "3eaf270d",
   "metadata": {},
   "outputs": [],
   "source": [
    "import pickle\n",
    "with open('./models/linear_classifier.pkl', 'wb') as f:\n",
    "    pickle.dump(short_pipeline, f)"
   ]
  },
  {
   "cell_type": "code",
   "execution_count": null,
   "id": "e46b0b30",
   "metadata": {},
   "outputs": [],
   "source": []
  }
 ],
 "metadata": {
  "kernelspec": {
   "display_name": "Python 3",
   "language": "python",
   "name": "python3"
  },
  "language_info": {
   "codemirror_mode": {
    "name": "ipython",
    "version": 3
   },
   "file_extension": ".py",
   "mimetype": "text/x-python",
   "name": "python",
   "nbconvert_exporter": "python",
   "pygments_lexer": "ipython3",
   "version": "3.8.8"
  }
 },
 "nbformat": 4,
 "nbformat_minor": 5
}
