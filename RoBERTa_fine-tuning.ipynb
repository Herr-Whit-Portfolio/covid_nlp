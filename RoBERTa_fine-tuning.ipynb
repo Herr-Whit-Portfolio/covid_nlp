{
 "cells": [
  {
   "cell_type": "code",
   "execution_count": 1,
   "id": "suffering-berlin",
   "metadata": {},
   "outputs": [
    {
     "data": {
      "text/plain": [
       "[PhysicalDevice(name='/physical_device:GPU:0', device_type='GPU')]"
      ]
     },
     "execution_count": 1,
     "metadata": {},
     "output_type": "execute_result"
    }
   ],
   "source": [
    "import tensorflow as tf\n",
    "tf.config.list_physical_devices('GPU')"
   ]
  },
  {
   "cell_type": "code",
   "execution_count": 2,
   "id": "ec850dc1",
   "metadata": {},
   "outputs": [],
   "source": [
    "import transformers"
   ]
  },
  {
   "cell_type": "code",
   "execution_count": 3,
   "id": "prime-center",
   "metadata": {},
   "outputs": [],
   "source": [
    "import pandas as pd\n",
    "import numpy as np\n",
    "import pickle\n",
    "use_saved_embeddings = True"
   ]
  },
  {
   "cell_type": "code",
   "execution_count": 4,
   "id": "d07c81ca",
   "metadata": {},
   "outputs": [],
   "source": [
    "pd.set_option(\"max_rows\", 100)\n",
    "pd.set_option(\"max_colwidth\", 2000)"
   ]
  },
  {
   "cell_type": "code",
   "execution_count": 5,
   "id": "answering-browser",
   "metadata": {
    "scrolled": true
   },
   "outputs": [],
   "source": [
    "train_set = pd.read_csv('./data/Corona_NLP_train_clean_no_hash.csv')\n",
    "test_set = pd.read_csv('./data/Corona_NLP_test_clean_no_hash.csv')"
   ]
  },
  {
   "cell_type": "code",
   "execution_count": 6,
   "id": "piano-hollow",
   "metadata": {},
   "outputs": [
    {
     "data": {
      "text/plain": [
       "<transformers.models.roberta.modeling_tf_roberta.TFRobertaForSequenceClassification at 0x2179bb69fa0>"
      ]
     },
     "execution_count": 6,
     "metadata": {},
     "output_type": "execute_result"
    }
   ],
   "source": [
    "from transformers import TFRobertaForSequenceClassification, RobertaConfig, RobertaTokenizer, glue_convert_examples_to_features\n",
    "\n",
    "# Initializing a BERT bert-base-uncased style configuration\n",
    "configuration = RobertaConfig(\"roberta-base\")\n",
    "configuration.update({'num_labels': 3})\n",
    "# Initializing a model from the bert-base-uncased style configuration\n",
    "model = TFRobertaForSequenceClassification(configuration)\n",
    "\n",
    "# Accessing the model configuration\n",
    "configuration = model.config\n",
    "model"
   ]
  },
  {
   "cell_type": "code",
   "execution_count": 7,
   "id": "harmful-singapore",
   "metadata": {},
   "outputs": [],
   "source": [
    "tokenizer = RobertaTokenizer.from_pretrained(\"roberta-base\")"
   ]
  },
  {
   "cell_type": "code",
   "execution_count": 8,
   "id": "68e83ee7",
   "metadata": {},
   "outputs": [],
   "source": [
    "class_token = \"[CLS]\"\n",
    "eos_token = \"[SEP]\""
   ]
  },
  {
   "cell_type": "code",
   "execution_count": 9,
   "id": "13c34ed0",
   "metadata": {},
   "outputs": [],
   "source": [
    "tokenizer.cls_token = class_token\n",
    "tokenizer.eos_token = eos_token"
   ]
  },
  {
   "cell_type": "code",
   "execution_count": 10,
   "id": "tamil-twenty",
   "metadata": {
    "scrolled": false
   },
   "outputs": [],
   "source": [
    "X_train = list(train_set['OriginalTweet'].apply(lambda x: class_token + x + eos_token).values)\n",
    "y_train = list(train_set['SentimentCode'].values)\n",
    "X_test = list(test_set['OriginalTweet'].apply(lambda x: class_token + x + eos_token).values)\n",
    "y_test = list(test_set['SentimentCode'].values)"
   ]
  },
  {
   "cell_type": "code",
   "execution_count": 11,
   "id": "executive-graham",
   "metadata": {},
   "outputs": [],
   "source": [
    "X_train = tokenizer(X_train, padding=True, return_tensors='tf', max_length=100)\n",
    "X_test = tokenizer(X_test, padding=True, return_tensors='tf', max_length=100)"
   ]
  },
  {
   "cell_type": "code",
   "execution_count": 12,
   "id": "c0f1ba6f",
   "metadata": {
    "scrolled": true
   },
   "outputs": [
    {
     "data": {
      "text/plain": [
       "array([[1., 0., 0.],\n",
       "       [0., 0., 1.],\n",
       "       [0., 0., 1.],\n",
       "       ...,\n",
       "       [0., 1., 0.],\n",
       "       [1., 0., 0.],\n",
       "       [0., 0., 1.]])"
      ]
     },
     "execution_count": 12,
     "metadata": {},
     "output_type": "execute_result"
    }
   ],
   "source": [
    "y_train_onehot = np.zeros((len(y_train), 3))\n",
    "for i, hot in enumerate(y_train):\n",
    "    y_train_onehot[i ,hot] = 1\n",
    "y_test_onehot = np.zeros((len(y_test), 3))\n",
    "for i, hot in enumerate(y_test):\n",
    "    y_test_onehot[i ,hot] = 1\n",
    "y_test_onehot"
   ]
  },
  {
   "cell_type": "code",
   "execution_count": 13,
   "id": "3274ed71",
   "metadata": {},
   "outputs": [
    {
     "data": {
      "text/html": [
       "<div>\n",
       "<style scoped>\n",
       "    .dataframe tbody tr th:only-of-type {\n",
       "        vertical-align: middle;\n",
       "    }\n",
       "\n",
       "    .dataframe tbody tr th {\n",
       "        vertical-align: top;\n",
       "    }\n",
       "\n",
       "    .dataframe thead th {\n",
       "        text-align: right;\n",
       "    }\n",
       "</style>\n",
       "<table border=\"1\" class=\"dataframe\">\n",
       "  <thead>\n",
       "    <tr style=\"text-align: right;\">\n",
       "      <th></th>\n",
       "      <th>Unnamed: 0</th>\n",
       "      <th>UserName</th>\n",
       "      <th>ScreenName</th>\n",
       "      <th>Location</th>\n",
       "      <th>TweetAt</th>\n",
       "      <th>OriginalTweet</th>\n",
       "      <th>Sentiment</th>\n",
       "      <th>SentimentCode</th>\n",
       "    </tr>\n",
       "  </thead>\n",
       "  <tbody>\n",
       "    <tr>\n",
       "      <th>0</th>\n",
       "      <td>0</td>\n",
       "      <td>1</td>\n",
       "      <td>44953</td>\n",
       "      <td>NYC</td>\n",
       "      <td>02-03-2020</td>\n",
       "      <td>TRENDING: New Yorkers encounter empty supermarket shelves (pictured, Wegmans in Brooklyn), sold-out online grocers (FoodKick, MaxDelivery) as  -fearing shoppers stock up</td>\n",
       "      <td>Extremely Negative</td>\n",
       "      <td>0</td>\n",
       "    </tr>\n",
       "    <tr>\n",
       "      <th>1</th>\n",
       "      <td>1</td>\n",
       "      <td>2</td>\n",
       "      <td>44954</td>\n",
       "      <td>Seattle, WA</td>\n",
       "      <td>02-03-2020</td>\n",
       "      <td>When I couldn't find hand sanitizer at Fred Meyer, I turned to  . But $114.97 for a 2 pack of Purell?!!Check out how   concerns are driving up prices.</td>\n",
       "      <td>Positive</td>\n",
       "      <td>2</td>\n",
       "    </tr>\n",
       "    <tr>\n",
       "      <th>2</th>\n",
       "      <td>2</td>\n",
       "      <td>3</td>\n",
       "      <td>44955</td>\n",
       "      <td>NaN</td>\n",
       "      <td>02-03-2020</td>\n",
       "      <td>Find out how you can protect yourself and loved ones from  . ?</td>\n",
       "      <td>Extremely Positive</td>\n",
       "      <td>2</td>\n",
       "    </tr>\n",
       "    <tr>\n",
       "      <th>3</th>\n",
       "      <td>3</td>\n",
       "      <td>4</td>\n",
       "      <td>44956</td>\n",
       "      <td>Chicagoland</td>\n",
       "      <td>02-03-2020</td>\n",
       "      <td>buying hits   City as anxious shoppers stock up on foodandmedical supplies after   worker in her 30s becomes   1st confirmed   patient OR a   staged event?</td>\n",
       "      <td>Negative</td>\n",
       "      <td>0</td>\n",
       "    </tr>\n",
       "    <tr>\n",
       "      <th>4</th>\n",
       "      <td>4</td>\n",
       "      <td>5</td>\n",
       "      <td>44957</td>\n",
       "      <td>Melbourne, Victoria</td>\n",
       "      <td>03-03-2020</td>\n",
       "      <td>One week everyone buying baby milk powder the next everyone buying up toilet paper.</td>\n",
       "      <td>Neutral</td>\n",
       "      <td>1</td>\n",
       "    </tr>\n",
       "    <tr>\n",
       "      <th>...</th>\n",
       "      <td>...</td>\n",
       "      <td>...</td>\n",
       "      <td>...</td>\n",
       "      <td>...</td>\n",
       "      <td>...</td>\n",
       "      <td>...</td>\n",
       "      <td>...</td>\n",
       "      <td>...</td>\n",
       "    </tr>\n",
       "    <tr>\n",
       "      <th>3791</th>\n",
       "      <td>3793</td>\n",
       "      <td>3794</td>\n",
       "      <td>48746</td>\n",
       "      <td>Israel ??</td>\n",
       "      <td>16-03-2020</td>\n",
       "      <td>Meanwhile In A Supermarket in Israel -- People dance and sing together to stay positive. ?</td>\n",
       "      <td>Positive</td>\n",
       "      <td>2</td>\n",
       "    </tr>\n",
       "    <tr>\n",
       "      <th>3792</th>\n",
       "      <td>3794</td>\n",
       "      <td>3795</td>\n",
       "      <td>48747</td>\n",
       "      <td>Farmington, NM</td>\n",
       "      <td>16-03-2020</td>\n",
       "      <td>Did you panic buy a lot of non-perishable items?ECHO needs food donations. It is also looking for volunteers to pack boxes. Volunteers will be screened to be sure they don't have COVID-19.</td>\n",
       "      <td>Negative</td>\n",
       "      <td>0</td>\n",
       "    </tr>\n",
       "    <tr>\n",
       "      <th>3793</th>\n",
       "      <td>3795</td>\n",
       "      <td>3796</td>\n",
       "      <td>48748</td>\n",
       "      <td>Haverford, PA</td>\n",
       "      <td>16-03-2020</td>\n",
       "      <td>Asst Prof of Economics   was on   talking about her recent research on coronavirus' impact on the economy. Watch it here (starting at :33):</td>\n",
       "      <td>Neutral</td>\n",
       "      <td>1</td>\n",
       "    </tr>\n",
       "    <tr>\n",
       "      <th>3794</th>\n",
       "      <td>3796</td>\n",
       "      <td>3797</td>\n",
       "      <td>48749</td>\n",
       "      <td>NaN</td>\n",
       "      <td>16-03-2020</td>\n",
       "      <td>Gov need to do somethings instead of biar je rakyat assume 'lockdown' ke or even worst. Harini semua supermarket crowded like hell. Lagi mudah virus tu tersebar ?</td>\n",
       "      <td>Extremely Negative</td>\n",
       "      <td>0</td>\n",
       "    </tr>\n",
       "    <tr>\n",
       "      <th>3795</th>\n",
       "      <td>3797</td>\n",
       "      <td>3798</td>\n",
       "      <td>48750</td>\n",
       "      <td>Arlington, Virginia</td>\n",
       "      <td>16-03-2020</td>\n",
       "      <td>I and   members are committed to the safety of our employees and our end-users. We are monitoring COVID-19. Rest assured that tissue manufacturers are continuing to produce and ship products.</td>\n",
       "      <td>Extremely Positive</td>\n",
       "      <td>2</td>\n",
       "    </tr>\n",
       "  </tbody>\n",
       "</table>\n",
       "<p>3796 rows × 8 columns</p>\n",
       "</div>"
      ],
      "text/plain": [
       "      Unnamed: 0  UserName  ScreenName             Location     TweetAt  \\\n",
       "0              0         1       44953                  NYC  02-03-2020   \n",
       "1              1         2       44954          Seattle, WA  02-03-2020   \n",
       "2              2         3       44955                  NaN  02-03-2020   \n",
       "3              3         4       44956          Chicagoland  02-03-2020   \n",
       "4              4         5       44957  Melbourne, Victoria  03-03-2020   \n",
       "...          ...       ...         ...                  ...         ...   \n",
       "3791        3793      3794       48746            Israel ??  16-03-2020   \n",
       "3792        3794      3795       48747       Farmington, NM  16-03-2020   \n",
       "3793        3795      3796       48748        Haverford, PA  16-03-2020   \n",
       "3794        3796      3797       48749                  NaN  16-03-2020   \n",
       "3795        3797      3798       48750  Arlington, Virginia  16-03-2020   \n",
       "\n",
       "                                                                                                                                                                                            OriginalTweet  \\\n",
       "0                           TRENDING: New Yorkers encounter empty supermarket shelves (pictured, Wegmans in Brooklyn), sold-out online grocers (FoodKick, MaxDelivery) as  -fearing shoppers stock up       \n",
       "1                                                When I couldn't find hand sanitizer at Fred Meyer, I turned to  . But $114.97 for a 2 pack of Purell?!!Check out how   concerns are driving up prices.     \n",
       "2                                                                                                                                          Find out how you can protect yourself and loved ones from  . ?   \n",
       "3                                buying hits   City as anxious shoppers stock up on foodandmedical supplies after   worker in her 30s becomes   1st confirmed   patient OR a   staged event?                \n",
       "4                                                                                                                   One week everyone buying baby milk powder the next everyone buying up toilet paper.     \n",
       "...                                                                                                                                                                                                   ...   \n",
       "3791                                                                                                        Meanwhile In A Supermarket in Israel -- People dance and sing together to stay positive. ?      \n",
       "3792       Did you panic buy a lot of non-perishable items?ECHO needs food donations. It is also looking for volunteers to pack boxes. Volunteers will be screened to be sure they don't have COVID-19.     \n",
       "3793                                                        Asst Prof of Economics   was on   talking about her recent research on coronavirus' impact on the economy. Watch it here (starting at :33):     \n",
       "3794                                  Gov need to do somethings instead of biar je rakyat assume 'lockdown' ke or even worst. Harini semua supermarket crowded like hell. Lagi mudah virus tu tersebar ?    \n",
       "3795  I and   members are committed to the safety of our employees and our end-users. We are monitoring COVID-19. Rest assured that tissue manufacturers are continuing to produce and ship products.       \n",
       "\n",
       "               Sentiment  SentimentCode  \n",
       "0     Extremely Negative              0  \n",
       "1               Positive              2  \n",
       "2     Extremely Positive              2  \n",
       "3               Negative              0  \n",
       "4                Neutral              1  \n",
       "...                  ...            ...  \n",
       "3791            Positive              2  \n",
       "3792            Negative              0  \n",
       "3793             Neutral              1  \n",
       "3794  Extremely Negative              0  \n",
       "3795  Extremely Positive              2  \n",
       "\n",
       "[3796 rows x 8 columns]"
      ]
     },
     "execution_count": 13,
     "metadata": {},
     "output_type": "execute_result"
    }
   ],
   "source": [
    "test_set"
   ]
  },
  {
   "cell_type": "code",
   "execution_count": 14,
   "id": "85e71b1d",
   "metadata": {},
   "outputs": [
    {
     "data": {
      "text/plain": [
       "<tf.Tensor: shape=(41106, 151), dtype=int32, numpy=\n",
       "array([[    3, 10975,  7454, ...,     1,     1,     1],\n",
       "       [    3, 10975,  7454, ...,     1,     1,     1],\n",
       "       [    3, 10975,  7454, ...,     1,     1,     1],\n",
       "       ...,\n",
       "       [    3, 10975,  7454, ...,     1,     1,     1],\n",
       "       [    3, 10975,  7454, ...,     1,     1,     1],\n",
       "       [    3, 10975,  7454, ...,     1,     1,     1]])>"
      ]
     },
     "execution_count": 14,
     "metadata": {},
     "output_type": "execute_result"
    }
   ],
   "source": [
    "X_train['input_ids']"
   ]
  },
  {
   "cell_type": "code",
   "execution_count": 15,
   "id": "3e5104c2",
   "metadata": {},
   "outputs": [
    {
     "data": {
      "text/plain": [
       "array(['[CLS]advice Talk to your neighbours family to exchange phone numbers create contact list with phone numbers of neighbours schools employer chemist GP set up online shopping accounts if poss adequate supplies of regular meds but not over order[SEP]',\n",
       "       '[CLS]Coronavirus Australia: Woolworths to give elderly, disabled dedicated shopping hours amid COVID-19 outbreak [SEP]',\n",
       "       \"[CLS]My food stock is not the only one which is empty... PLEASE, don't panic, THERE WILL BE ENOUGH FOOD FOR EVERYONE if you do not take more than you need. Stay calm, stay safe. [SEP]\",\n",
       "       ...,\n",
       "       '[CLS]You know it\\x92s getting tough when is rationing toilet paper martinsville, help us out!![SEP]',\n",
       "       '[CLS]Is it wrong that the smell of hand sanitizer is starting to turn me on? [SEP]',\n",
       "       \"[CLS] Well new/used Rift S are going for $700.00 on Amazon rn although the normal market price is usually $400.00 . Prices are really crazy right now for vr headsets since HL Alex was announced and it's only been worse with COVID-19. Up to you whethe[SEP]\"],\n",
       "      dtype=object)"
      ]
     },
     "execution_count": 15,
     "metadata": {},
     "output_type": "execute_result"
    }
   ],
   "source": [
    "train_set['OriginalTweet'].apply(lambda x: class_token + x + eos_token).values"
   ]
  },
  {
   "cell_type": "code",
   "execution_count": 16,
   "id": "f59bebb9",
   "metadata": {},
   "outputs": [],
   "source": [
    "callbacks = list()"
   ]
  },
  {
   "cell_type": "code",
   "execution_count": 17,
   "id": "fd41d34f",
   "metadata": {},
   "outputs": [],
   "source": [
    "callbacks.append(tf.keras.callbacks.EarlyStopping(\n",
    "    monitor='val_loss', min_delta=0.001, patience=4, verbose=1,\n",
    "    mode='auto', baseline=None, restore_best_weights=False\n",
    "))"
   ]
  },
  {
   "cell_type": "code",
   "execution_count": 18,
   "id": "19962423",
   "metadata": {},
   "outputs": [],
   "source": [
    "filepath ='./models'\n",
    "callbacks.append(tf.keras.callbacks.ModelCheckpoint(\n",
    "    filepath, monitor='val_loss', verbose=1, save_best_only=False,\n",
    "    save_weights_only=False, mode='auto', save_freq='epoch',\n",
    "    options=None\n",
    "))"
   ]
  },
  {
   "cell_type": "markdown",
   "id": "ba70f076",
   "metadata": {},
   "source": [
    "fit(\n",
    "    x=None, y=None, batch_size=None, epochs=1, verbose=1, callbacks=None,\n",
    "    validation_split=0.0, validation_data=None, shuffle=True, class_weight=None,\n",
    "    sample_weight=None, initial_epoch=0, steps_per_epoch=None,\n",
    "    validation_steps=None, validation_batch_size=None, validation_freq=1,\n",
    "    max_queue_size=10, workers=1, use_multiprocessing=False\n",
    ")\n"
   ]
  },
  {
   "cell_type": "code",
   "execution_count": 19,
   "id": "14af284a",
   "metadata": {
    "scrolled": false
   },
   "outputs": [
    {
     "name": "stdout",
     "output_type": "stream",
     "text": [
      "Epoch 1/30\n",
      "WARNING:tensorflow:The parameters `output_attentions`, `output_hidden_states` and `use_cache` cannot be updated when calling a model.They have to be set to True/False in the config object (i.e.: `config=XConfig.from_pretrained('name', output_attentions=True)`).\n",
      "WARNING:tensorflow:AutoGraph could not transform <bound method Socket.send of <zmq.sugar.socket.Socket object at 0x000002178B0A3280>> and will run it as-is.\n",
      "Please report this to the TensorFlow team. When filing the bug, set the verbosity to 10 (on Linux, `export AUTOGRAPH_VERBOSITY=10`) and attach the full output.\n",
      "Cause: module, class, method, function, traceback, frame, or code object was expected, got cython_function_or_method\n",
      "To silence this warning, decorate the function with @tf.autograph.experimental.do_not_convert\n",
      "WARNING: AutoGraph could not transform <bound method Socket.send of <zmq.sugar.socket.Socket object at 0x000002178B0A3280>> and will run it as-is.\n",
      "Please report this to the TensorFlow team. When filing the bug, set the verbosity to 10 (on Linux, `export AUTOGRAPH_VERBOSITY=10`) and attach the full output.\n",
      "Cause: module, class, method, function, traceback, frame, or code object was expected, got cython_function_or_method\n",
      "To silence this warning, decorate the function with @tf.autograph.experimental.do_not_convert\n",
      "WARNING:tensorflow:The parameter `return_dict` cannot be set in graph mode and will always be set to `True`.\n",
      "WARNING:tensorflow:The parameters `output_attentions`, `output_hidden_states` and `use_cache` cannot be updated when calling a model.They have to be set to True/False in the config object (i.e.: `config=XConfig.from_pretrained('name', output_attentions=True)`).\n",
      "WARNING:tensorflow:The parameter `return_dict` cannot be set in graph mode and will always be set to `True`.\n",
      "1000/1000 [==============================] - ETA: 0s - loss: 4.1683WARNING:tensorflow:The parameters `output_attentions`, `output_hidden_states` and `use_cache` cannot be updated when calling a model.They have to be set to True/False in the config object (i.e.: `config=XConfig.from_pretrained('name', output_attentions=True)`).\n",
      "WARNING:tensorflow:The parameter `return_dict` cannot be set in graph mode and will always be set to `True`.\n",
      "1000/1000 [==============================] - 1673s 2s/step - loss: 4.1682 - val_loss: 9.7379\n",
      "\n",
      "Epoch 00001: saving model to .\\models\n",
      "Epoch 2/30\n",
      "1000/1000 [==============================] - 1653s 2s/step - loss: 4.2952 - val_loss: 5.5594\n",
      "\n",
      "Epoch 00002: saving model to .\\models\n",
      "Epoch 3/30\n",
      "1000/1000 [==============================] - 1656s 2s/step - loss: 4.3698 - val_loss: 3.2428\n",
      "\n",
      "Epoch 00003: saving model to .\\models\n",
      "Epoch 4/30\n",
      "1000/1000 [==============================] - 1658s 2s/step - loss: 3.8845 - val_loss: 4.5643\n",
      "\n",
      "Epoch 00004: saving model to .\\models\n",
      "Epoch 5/30\n",
      "1000/1000 [==============================] - 1656s 2s/step - loss: 4.6285 - val_loss: 4.8431\n",
      "\n",
      "Epoch 00005: saving model to .\\models\n",
      "Epoch 6/30\n",
      "1000/1000 [==============================] - 1657s 2s/step - loss: 4.1255 - val_loss: 6.4919\n",
      "\n",
      "Epoch 00006: saving model to .\\models\n",
      "Epoch 7/30\n",
      "1000/1000 [==============================] - 1659s 2s/step - loss: 4.8715 - val_loss: 4.4046\n",
      "\n",
      "Epoch 00007: saving model to .\\models\n",
      "Epoch 00007: early stopping\n"
     ]
    },
    {
     "data": {
      "text/plain": [
       "<tensorflow.python.keras.callbacks.History at 0x2187bf96880>"
      ]
     },
     "execution_count": 19,
     "metadata": {},
     "output_type": "execute_result"
    }
   ],
   "source": [
    "optimizer = tf.keras.optimizers.Adam(learning_rate=3e-2)\n",
    "loss = tf.keras.losses.CategoricalCrossentropy(from_logits=True)\n",
    "model.compile(optimizer=optimizer, loss=loss)\n",
    "model.fit(x=X_train['input_ids'], y=tf.constant(y_train_onehot), epochs=30, steps_per_epoch=1000, batch_size=8,\n",
    "         validation_data=(X_test['input_ids'] , tf.constant(y_test_onehot)), validation_batch_size=8, callbacks=callbacks)"
   ]
  },
  {
   "cell_type": "code",
   "execution_count": 20,
   "id": "0921514f",
   "metadata": {},
   "outputs": [
    {
     "name": "stdout",
     "output_type": "stream",
     "text": [
      "WARNING:tensorflow:The parameters `output_attentions`, `output_hidden_states` and `use_cache` cannot be updated when calling a model.They have to be set to True/False in the config object (i.e.: `config=XConfig.from_pretrained('name', output_attentions=True)`).\n",
      "WARNING:tensorflow:The parameter `return_dict` cannot be set in graph mode and will always be set to `True`.\n",
      "WARNING:tensorflow:The parameters `output_attentions`, `output_hidden_states` and `use_cache` cannot be updated when calling a model.They have to be set to True/False in the config object (i.e.: `config=XConfig.from_pretrained('name', output_attentions=True)`).\n",
      "WARNING:tensorflow:The parameter `return_dict` cannot be set in graph mode and will always be set to `True`.\n",
      "WARNING:tensorflow:The parameters `output_attentions`, `output_hidden_states` and `use_cache` cannot be updated when calling a model.They have to be set to True/False in the config object (i.e.: `config=XConfig.from_pretrained('name', output_attentions=True)`).\n",
      "WARNING:tensorflow:The parameter `return_dict` cannot be set in graph mode and will always be set to `True`.\n",
      "WARNING:tensorflow:The parameters `output_attentions`, `output_hidden_states` and `use_cache` cannot be updated when calling a model.They have to be set to True/False in the config object (i.e.: `config=XConfig.from_pretrained('name', output_attentions=True)`).\n",
      "WARNING:tensorflow:The parameter `return_dict` cannot be set in graph mode and will always be set to `True`.\n",
      "WARNING:tensorflow:The parameters `output_attentions`, `output_hidden_states` and `use_cache` cannot be updated when calling a model.They have to be set to True/False in the config object (i.e.: `config=XConfig.from_pretrained('name', output_attentions=True)`).\n",
      "WARNING:tensorflow:The parameter `return_dict` cannot be set in graph mode and will always be set to `True`.\n",
      "WARNING:tensorflow:The parameters `output_attentions`, `output_hidden_states` and `use_cache` cannot be updated when calling a model.They have to be set to True/False in the config object (i.e.: `config=XConfig.from_pretrained('name', output_attentions=True)`).\n",
      "WARNING:tensorflow:The parameter `return_dict` cannot be set in graph mode and will always be set to `True`.\n",
      "WARNING:tensorflow:The parameters `output_attentions`, `output_hidden_states` and `use_cache` cannot be updated when calling a model.They have to be set to True/False in the config object (i.e.: `config=XConfig.from_pretrained('name', output_attentions=True)`).\n",
      "WARNING:tensorflow:The parameter `return_dict` cannot be set in graph mode and will always be set to `True`.\n",
      "WARNING:tensorflow:The parameters `output_attentions`, `output_hidden_states` and `use_cache` cannot be updated when calling a model.They have to be set to True/False in the config object (i.e.: `config=XConfig.from_pretrained('name', output_attentions=True)`).\n",
      "WARNING:tensorflow:The parameter `return_dict` cannot be set in graph mode and will always be set to `True`.\n"
     ]
    },
    {
     "name": "stderr",
     "output_type": "stream",
     "text": [
      "WARNING:absl:Found untraced functions such as encoder_layer_call_fn, encoder_layer_call_and_return_conditional_losses, embeddings_layer_call_fn, embeddings_layer_call_and_return_conditional_losses, dense_layer_call_fn while saving (showing 5 of 1060). These functions will not be directly callable after loading.\n",
      "WARNING:absl:Found untraced functions such as encoder_layer_call_fn, encoder_layer_call_and_return_conditional_losses, embeddings_layer_call_fn, embeddings_layer_call_and_return_conditional_losses, dense_layer_call_fn while saving (showing 5 of 1060). These functions will not be directly callable after loading.\n"
     ]
    },
    {
     "name": "stdout",
     "output_type": "stream",
     "text": [
      "INFO:tensorflow:Assets written to: roberta_classifier_early_stop.tfm\\assets\n"
     ]
    },
    {
     "name": "stderr",
     "output_type": "stream",
     "text": [
      "INFO:tensorflow:Assets written to: roberta_classifier_early_stop.tfm\\assets\n"
     ]
    }
   ],
   "source": [
    "model.save('roberta_classifier_early_stop.tfm')"
   ]
  },
  {
   "cell_type": "code",
   "execution_count": 21,
   "id": "d2677ad9",
   "metadata": {
    "scrolled": true
   },
   "outputs": [
    {
     "name": "stdout",
     "output_type": "stream",
     "text": [
      "WARNING:tensorflow:The parameters `output_attentions`, `output_hidden_states` and `use_cache` cannot be updated when calling a model.They have to be set to True/False in the config object (i.e.: `config=XConfig.from_pretrained('name', output_attentions=True)`).\n"
     ]
    },
    {
     "name": "stderr",
     "output_type": "stream",
     "text": [
      "WARNING:tensorflow:The parameters `output_attentions`, `output_hidden_states` and `use_cache` cannot be updated when calling a model.They have to be set to True/False in the config object (i.e.: `config=XConfig.from_pretrained('name', output_attentions=True)`).\n"
     ]
    },
    {
     "name": "stdout",
     "output_type": "stream",
     "text": [
      "WARNING:tensorflow:The parameter `return_dict` cannot be set in graph mode and will always be set to `True`.\n"
     ]
    },
    {
     "name": "stderr",
     "output_type": "stream",
     "text": [
      "WARNING:tensorflow:The parameter `return_dict` cannot be set in graph mode and will always be set to `True`.\n"
     ]
    }
   ],
   "source": [
    "y_pred = model.predict(X_test['input_ids'])"
   ]
  },
  {
   "cell_type": "code",
   "execution_count": 22,
   "id": "cc282cbc",
   "metadata": {},
   "outputs": [
    {
     "data": {
      "text/plain": [
       "array([[ 3.2232282,  4.3855395, -4.533114 ],\n",
       "       [ 3.2232282,  4.3855395, -4.533114 ],\n",
       "       [ 3.2232282,  4.3855395, -4.533114 ],\n",
       "       [ 3.2232282,  4.3855395, -4.533114 ],\n",
       "       [ 3.2232282,  4.3855395, -4.533114 ],\n",
       "       [ 3.2232282,  4.3855395, -4.533114 ],\n",
       "       [ 3.2232282,  4.3855395, -4.533114 ],\n",
       "       [ 3.2232282,  4.3855395, -4.533114 ],\n",
       "       [ 3.2232282,  4.3855395, -4.533114 ],\n",
       "       [ 3.2232282,  4.3855395, -4.533114 ],\n",
       "       [ 3.2232282,  4.3855395, -4.533114 ],\n",
       "       [ 3.2232282,  4.3855395, -4.533114 ],\n",
       "       [ 3.2232282,  4.3855395, -4.533114 ],\n",
       "       [ 3.2232282,  4.3855395, -4.533114 ],\n",
       "       [ 3.2232282,  4.3855395, -4.533114 ],\n",
       "       [ 3.2232282,  4.3855395, -4.533114 ],\n",
       "       [ 3.2232282,  4.3855395, -4.533114 ],\n",
       "       [ 3.2232282,  4.3855395, -4.533114 ],\n",
       "       [ 3.2232282,  4.3855395, -4.533114 ],\n",
       "       [ 3.2232282,  4.3855395, -4.533114 ],\n",
       "       [ 3.2232282,  4.3855395, -4.533114 ],\n",
       "       [ 3.2232282,  4.3855395, -4.533114 ],\n",
       "       [ 3.2232282,  4.3855395, -4.533114 ],\n",
       "       [ 3.2232282,  4.3855395, -4.533114 ],\n",
       "       [ 3.2232282,  4.3855395, -4.533114 ],\n",
       "       [ 3.2232282,  4.3855395, -4.533114 ],\n",
       "       [ 3.2232282,  4.3855395, -4.533114 ],\n",
       "       [ 3.2232282,  4.3855395, -4.533114 ],\n",
       "       [ 3.2232282,  4.3855395, -4.533114 ],\n",
       "       [ 3.2232282,  4.3855395, -4.533114 ],\n",
       "       [ 3.2232282,  4.3855395, -4.533114 ],\n",
       "       [ 3.2232282,  4.3855395, -4.533114 ]], dtype=float32)"
      ]
     },
     "execution_count": 22,
     "metadata": {},
     "output_type": "execute_result"
    }
   ],
   "source": [
    "y_pred.logits[:32,:]"
   ]
  },
  {
   "cell_type": "code",
   "execution_count": 23,
   "id": "50eea7ea",
   "metadata": {
    "scrolled": true
   },
   "outputs": [
    {
     "data": {
      "text/plain": [
       "array([1, 1, 1, ..., 1, 1, 1], dtype=int64)"
      ]
     },
     "execution_count": 23,
     "metadata": {},
     "output_type": "execute_result"
    }
   ],
   "source": [
    "tf.nn.softmax(y_pred.logits, axis=1).numpy().argmax(axis=1)"
   ]
  },
  {
   "cell_type": "code",
   "execution_count": 24,
   "id": "a41e6947",
   "metadata": {},
   "outputs": [
    {
     "ename": "SyntaxError",
     "evalue": "invalid syntax (<ipython-input-24-9d526553a371>, line 1)",
     "output_type": "error",
     "traceback": [
      "\u001b[1;36m  File \u001b[1;32m\"<ipython-input-24-9d526553a371>\"\u001b[1;36m, line \u001b[1;32m1\u001b[0m\n\u001b[1;33m    if\u001b[0m\n\u001b[1;37m      ^\u001b[0m\n\u001b[1;31mSyntaxError\u001b[0m\u001b[1;31m:\u001b[0m invalid syntax\n"
     ]
    }
   ],
   "source": [
    "if"
   ]
  },
  {
   "cell_type": "code",
   "execution_count": null,
   "id": "adapted-sleeve",
   "metadata": {
    "scrolled": true
   },
   "outputs": [],
   "source": [
    "if\n",
    "# stuff = model(X_tensors['input_ids'][:10], X_tensors['attention_mask'][:10], output_hidden_states=True)\n",
    "if use_saved_embeddings:\n",
    "    with open('embeddings_train.pkl', 'rb') as f:\n",
    "        train_embeddings = pickle.load(f)\n",
    "    with open('embeddings_test.pkl', 'rb') as f:\n",
    "        test_embeddings = pickle.load(f)\n",
    "else:\n",
    "    train_embeddings = get_embeddings_batchwise(X_train_tensors, 128, model)\n",
    "    test_embeddings = get_embeddings_batchwise(X_test_tensors, 128, model) \n",
    "    with open('embeddings_train.pkl', 'wb') as f:\n",
    "        pickle.dump(train_embeddings, f)\n",
    "    with open('embeddings_test.pkl', 'wb') as f:\n",
    "        pickle.dump(test_embeddings, f)"
   ]
  },
  {
   "cell_type": "code",
   "execution_count": 25,
   "id": "1bb0fcbf",
   "metadata": {},
   "outputs": [
    {
     "data": {
      "text/plain": [
       "3796"
      ]
     },
     "execution_count": 25,
     "metadata": {},
     "output_type": "execute_result"
    }
   ],
   "source": [
    "len(X_test['input_ids'])"
   ]
  },
  {
   "cell_type": "code",
   "execution_count": 26,
   "id": "changed-edgar",
   "metadata": {},
   "outputs": [],
   "source": [
    "from sklearn.neighbors import KNeighborsClassifier\n",
    "from sklearn import svm\n",
    "from sklearn.metrics import f1_score, plot_confusion_matrix"
   ]
  },
  {
   "cell_type": "code",
   "execution_count": 27,
   "id": "3b6b2c8c",
   "metadata": {},
   "outputs": [
    {
     "data": {
      "text/plain": [
       "array([0.        , 0.27962837, 0.        ])"
      ]
     },
     "execution_count": 27,
     "metadata": {},
     "output_type": "execute_result"
    }
   ],
   "source": [
    "f1_score(y_test, tf.nn.softmax(y_pred.logits, axis=1)  .numpy().argmax(axis=1), average=None)"
   ]
  },
  {
   "cell_type": "code",
   "execution_count": null,
   "id": "14e3cf45",
   "metadata": {},
   "outputs": [],
   "source": []
  }
 ],
 "metadata": {
  "kernelspec": {
   "display_name": "Python 3",
   "language": "python",
   "name": "python3"
  },
  "language_info": {
   "codemirror_mode": {
    "name": "ipython",
    "version": 3
   },
   "file_extension": ".py",
   "mimetype": "text/x-python",
   "name": "python",
   "nbconvert_exporter": "python",
   "pygments_lexer": "ipython3",
   "version": "3.8.8"
  }
 },
 "nbformat": 4,
 "nbformat_minor": 5
}
