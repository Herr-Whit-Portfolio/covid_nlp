{
 "cells": [
  {
   "cell_type": "code",
   "execution_count": null,
   "id": "preliminary-holly",
   "metadata": {},
   "outputs": [],
   "source": [
    "%load_ext autoreload\n",
    "%autoreload 2"
   ]
  },
  {
   "cell_type": "code",
   "execution_count": null,
   "id": "elder-ethernet",
   "metadata": {},
   "outputs": [],
   "source": [
    "import dask.dataframe as dd\n",
    "import pandas as pd\n",
    "from spacy.lang.en import English\n",
    "import seaborn as sns"
   ]
  },
  {
   "cell_type": "code",
   "execution_count": null,
   "id": "large-harbor",
   "metadata": {},
   "outputs": [],
   "source": [
    "pd.set_option(\"max_rows\", 100)\n",
    "pd.set_option(\"max_colwidth\", 2000)"
   ]
  },
  {
   "cell_type": "code",
   "execution_count": null,
   "id": "collectible-millennium",
   "metadata": {},
   "outputs": [],
   "source": [
    "df = pd.read_csv(\"./data/Corona_NLP_train.csv\")\n",
    "df_test = pd.read_csv(\"./data/Corona_NLP_test.csv\")\n",
    "#df = dd.from_pandas(df, npartitions=1)\n",
    "#df = df.persist()"
   ]
  },
  {
   "cell_type": "markdown",
   "id": "aggregate-archives",
   "metadata": {},
   "source": [
    "# Data Exploration\n",
    "Let's begin with examining a few datapoints and attributes."
   ]
  },
  {
   "cell_type": "code",
   "execution_count": null,
   "id": "every-delay",
   "metadata": {},
   "outputs": [],
   "source": [
    "df.head(5)"
   ]
  },
  {
   "cell_type": "code",
   "execution_count": null,
   "id": "rising-formula",
   "metadata": {},
   "outputs": [],
   "source": [
    "set(df.Sentiment)"
   ]
  },
  {
   "cell_type": "markdown",
   "id": "considerable-perception",
   "metadata": {},
   "source": [
    "There are some immediate observations about the tweets: \n",
    "\n",
    "Obviously there are hashstags, which are concatenations of words, which might not be able to be tokenized easily. Hashtags could, however be extracted as a separate feature.\n",
    "\n",
    "Some tweets contain URL, which might not be easily processed within standard NLP pipelines.\n",
    "\n",
    "Some tweets contain tab and newline characters ('\\n' or '\\r').\n",
    "\n",
    "The location attributes seems not to correspond to physical information in a lot of cases. If this attribute was to be used, there would be a need for complex data cleaning."
   ]
  },
  {
   "cell_type": "code",
   "execution_count": null,
   "id": "entitled-archives",
   "metadata": {
    "scrolled": true
   },
   "outputs": [],
   "source": [
    "set(df.Location)"
   ]
  },
  {
   "cell_type": "markdown",
   "id": "ranking-liberia",
   "metadata": {},
   "source": [
    "Furthermore, the location is missing in an approximate 20% of datapoints"
   ]
  },
  {
   "cell_type": "code",
   "execution_count": null,
   "id": "alpha-adoption",
   "metadata": {},
   "outputs": [],
   "source": [
    "df.isna().sum()"
   ]
  },
  {
   "cell_type": "code",
   "execution_count": null,
   "id": "cordless-peoples",
   "metadata": {},
   "outputs": [],
   "source": [
    "sns.countplot(data=df, x=\"Sentiment\", order=['Extremely Negative', 'Negative', 'Neutral', 'Positive', 'Extremely Positive'])"
   ]
  },
  {
   "cell_type": "markdown",
   "id": "competent-captain",
   "metadata": {},
   "source": [
    "# Data Cleaning\n",
    "Next let's identify potentially problematic patterns using regex."
   ]
  },
  {
   "cell_type": "code",
   "execution_count": null,
   "id": "impaired-despite",
   "metadata": {},
   "outputs": [],
   "source": [
    "clean_df = df.copy()"
   ]
  },
  {
   "cell_type": "markdown",
   "id": "recognized-seafood",
   "metadata": {},
   "source": [
    "Clean up whitespace."
   ]
  },
  {
   "cell_type": "code",
   "execution_count": null,
   "id": "funky-inside",
   "metadata": {},
   "outputs": [],
   "source": [
    "clean_df['OriginalTweet'] = clean_df['OriginalTweet'].str.replace('[\\n\\r]', ' ', regex=True)\n",
    "clean_df['OriginalTweet'] = clean_df['OriginalTweet'].str.replace(' +', ' ', regex=True)"
   ]
  },
  {
   "cell_type": "markdown",
   "id": "alert-device",
   "metadata": {},
   "source": [
    "Remove repeated question marks."
   ]
  },
  {
   "cell_type": "code",
   "execution_count": null,
   "id": "informed-remark",
   "metadata": {},
   "outputs": [],
   "source": [
    "clean_df['OriginalTweet'] = clean_df['OriginalTweet'].str.replace('\\?+', '?', regex=True)\n",
    "clean_df['OriginalTweet'] = clean_df['OriginalTweet'].str.replace('(?:\\? ?)+', '?', regex=True)"
   ]
  },
  {
   "cell_type": "markdown",
   "id": "addressed-footage",
   "metadata": {},
   "source": [
    "Remove URLs."
   ]
  },
  {
   "cell_type": "code",
   "execution_count": null,
   "id": "single-jenny",
   "metadata": {},
   "outputs": [],
   "source": [
    "clean_df['OriginalTweet'] = clean_df['OriginalTweet'].str.replace('http[^ ]*', ' ', regex=True)"
   ]
  },
  {
   "cell_type": "markdown",
   "id": "studied-discharge",
   "metadata": {},
   "source": [
    "Change ampercent sign and the xml entity to \"and\" word."
   ]
  },
  {
   "cell_type": "code",
   "execution_count": null,
   "id": "three-makeup",
   "metadata": {},
   "outputs": [],
   "source": [
    "clean_df['OriginalTweet'] = clean_df['OriginalTweet'].str.replace('(&amp;)|&', 'and', regex=True)"
   ]
  },
  {
   "cell_type": "markdown",
   "id": "animal-conspiracy",
   "metadata": {},
   "source": [
    "Change hashtags to normal words (remove the '#').\n",
    "\n",
    "'#yolo' -> 'yolo'"
   ]
  },
  {
   "cell_type": "code",
   "execution_count": null,
   "id": "demographic-roller",
   "metadata": {},
   "outputs": [],
   "source": [
    "clean_df['OriginalTweet'] = clean_df['OriginalTweet'].str.replace('#', ' ', regex=True)"
   ]
  },
  {
   "cell_type": "markdown",
   "id": "minute-matrix",
   "metadata": {},
   "source": [
    "Remove reference to twitter Users.\n",
    "\n",
    "Example: '@bbc'"
   ]
  },
  {
   "cell_type": "code",
   "execution_count": null,
   "id": "magnetic-thought",
   "metadata": {},
   "outputs": [],
   "source": [
    "clean_df['OriginalTweet'] = clean_df['OriginalTweet'].str.replace('@[^ ]+', ' ', regex=True)"
   ]
  },
  {
   "cell_type": "code",
   "execution_count": null,
   "id": "capital-negative",
   "metadata": {},
   "outputs": [],
   "source": [
    "clean_df[~clean_df['OriginalTweet'].str.contains('\\w{3,}')]"
   ]
  },
  {
   "cell_type": "code",
   "execution_count": null,
   "id": "international-danger",
   "metadata": {},
   "outputs": [],
   "source": [
    "clean_df.sample(10)"
   ]
  },
  {
   "cell_type": "markdown",
   "id": "refined-promotion",
   "metadata": {},
   "source": [
    "# Feature Extraction"
   ]
  },
  {
   "cell_type": "code",
   "execution_count": null,
   "id": "packed-appraisal",
   "metadata": {},
   "outputs": [],
   "source": [
    "nlp = English()"
   ]
  },
  {
   "cell_type": "code",
   "execution_count": null,
   "id": "sealed-curve",
   "metadata": {},
   "outputs": [],
   "source": []
  }
 ],
 "metadata": {
  "kernelspec": {
   "display_name": "Python 3",
   "language": "python",
   "name": "python3"
  },
  "language_info": {
   "codemirror_mode": {
    "name": "ipython",
    "version": 3
   },
   "file_extension": ".py",
   "mimetype": "text/x-python",
   "name": "python",
   "nbconvert_exporter": "python",
   "pygments_lexer": "ipython3",
   "version": "3.9.2"
  }
 },
 "nbformat": 4,
 "nbformat_minor": 5
}
